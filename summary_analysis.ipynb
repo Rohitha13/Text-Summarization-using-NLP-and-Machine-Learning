{
 "cells": [
  {
   "cell_type": "markdown",
   "id": "6f651c40",
   "metadata": {},
   "source": [
    "###  Text Data "
   ]
  },
  {
   "cell_type": "markdown",
   "id": "15580a05",
   "metadata": {},
   "source": [
    "### Importing Necessary Libraries"
   ]
  },
  {
   "cell_type": "code",
   "execution_count": 4,
   "id": "3d016c6b",
   "metadata": {},
   "outputs": [],
   "source": [
    "import pandas as pd\n",
    "import numpy as np\n",
    "import seaborn as sns\n",
    "import warnings\n",
    "import matplotlib.pyplot as plt\n",
    "warnings.filterwarnings(\"ignore\")"
   ]
  },
  {
   "cell_type": "markdown",
   "id": "cec82811",
   "metadata": {},
   "source": [
    "### Importing required libraries for NLP"
   ]
  },
  {
   "cell_type": "code",
   "execution_count": 5,
   "id": "04a4376e",
   "metadata": {},
   "outputs": [],
   "source": [
    "import re\n",
    "import nltk\n",
    "from nltk.tokenize import word_tokenize\n",
    "from nltk.corpus import stopwords\n",
    "\n",
    "from nltk.stem import WordNetLemmatizer"
   ]
  },
  {
   "cell_type": "code",
   "execution_count": 8,
   "id": "4703ce54",
   "metadata": {},
   "outputs": [
    {
     "data": {
      "text/html": [
       "<div>\n",
       "<style scoped>\n",
       "    .dataframe tbody tr th:only-of-type {\n",
       "        vertical-align: middle;\n",
       "    }\n",
       "\n",
       "    .dataframe tbody tr th {\n",
       "        vertical-align: top;\n",
       "    }\n",
       "\n",
       "    .dataframe thead th {\n",
       "        text-align: right;\n",
       "    }\n",
       "</style>\n",
       "<table border=\"1\" class=\"dataframe\">\n",
       "  <thead>\n",
       "    <tr style=\"text-align: right;\">\n",
       "      <th></th>\n",
       "      <th>Unnamed: 0</th>\n",
       "      <th>Id</th>\n",
       "      <th>ProductId</th>\n",
       "      <th>UserId</th>\n",
       "      <th>ProfileName</th>\n",
       "      <th>HelpfulnessNumerator</th>\n",
       "      <th>HelpfulnessDenominator</th>\n",
       "      <th>Score</th>\n",
       "      <th>Time</th>\n",
       "      <th>Summary</th>\n",
       "      <th>Text</th>\n",
       "    </tr>\n",
       "  </thead>\n",
       "  <tbody>\n",
       "    <tr>\n",
       "      <th>0</th>\n",
       "      <td>0</td>\n",
       "      <td>2</td>\n",
       "      <td>B00813GRG4</td>\n",
       "      <td>A1D87F6ZCVE5NK</td>\n",
       "      <td>dll pa</td>\n",
       "      <td>0</td>\n",
       "      <td>0</td>\n",
       "      <td>1</td>\n",
       "      <td>1346976000</td>\n",
       "      <td>Not as Advertised</td>\n",
       "      <td>Product arrived labeled as Jumbo Salted Peanut...</td>\n",
       "    </tr>\n",
       "    <tr>\n",
       "      <th>1</th>\n",
       "      <td>1</td>\n",
       "      <td>13</td>\n",
       "      <td>B0009XLVG0</td>\n",
       "      <td>A327PCT23YH90</td>\n",
       "      <td>LT</td>\n",
       "      <td>1</td>\n",
       "      <td>1</td>\n",
       "      <td>1</td>\n",
       "      <td>1339545600</td>\n",
       "      <td>My Cats Are Not Fans of the New Food</td>\n",
       "      <td>My cats have been happily eating Felidae Plati...</td>\n",
       "    </tr>\n",
       "    <tr>\n",
       "      <th>2</th>\n",
       "      <td>2</td>\n",
       "      <td>27</td>\n",
       "      <td>B001GVISJM</td>\n",
       "      <td>A3RXAU2N8KV45G</td>\n",
       "      <td>lady21</td>\n",
       "      <td>0</td>\n",
       "      <td>1</td>\n",
       "      <td>1</td>\n",
       "      <td>1332633600</td>\n",
       "      <td>Nasty No flavor</td>\n",
       "      <td>The candy is just red , No flavor . Just  plan...</td>\n",
       "    </tr>\n",
       "    <tr>\n",
       "      <th>3</th>\n",
       "      <td>3</td>\n",
       "      <td>51</td>\n",
       "      <td>B001EO5QW8</td>\n",
       "      <td>A108P30XVUFKXY</td>\n",
       "      <td>Roberto A</td>\n",
       "      <td>0</td>\n",
       "      <td>7</td>\n",
       "      <td>1</td>\n",
       "      <td>1203379200</td>\n",
       "      <td>Don't like it</td>\n",
       "      <td>This oatmeal is not good. Its mushy, soft, I d...</td>\n",
       "    </tr>\n",
       "    <tr>\n",
       "      <th>4</th>\n",
       "      <td>4</td>\n",
       "      <td>63</td>\n",
       "      <td>B001EO5TPM</td>\n",
       "      <td>A1E09XGZUR78C6</td>\n",
       "      <td>gary sturrock</td>\n",
       "      <td>2</td>\n",
       "      <td>2</td>\n",
       "      <td>1</td>\n",
       "      <td>1215302400</td>\n",
       "      <td>stale product.</td>\n",
       "      <td>Arrived in 6 days and were so stale i could no...</td>\n",
       "    </tr>\n",
       "  </tbody>\n",
       "</table>\n",
       "</div>"
      ],
      "text/plain": [
       "   Unnamed: 0  Id   ProductId          UserId    ProfileName  \\\n",
       "0           0   2  B00813GRG4  A1D87F6ZCVE5NK         dll pa   \n",
       "1           1  13  B0009XLVG0   A327PCT23YH90             LT   \n",
       "2           2  27  B001GVISJM  A3RXAU2N8KV45G         lady21   \n",
       "3           3  51  B001EO5QW8  A108P30XVUFKXY      Roberto A   \n",
       "4           4  63  B001EO5TPM  A1E09XGZUR78C6  gary sturrock   \n",
       "\n",
       "   HelpfulnessNumerator  HelpfulnessDenominator  Score        Time  \\\n",
       "0                     0                       0      1  1346976000   \n",
       "1                     1                       1      1  1339545600   \n",
       "2                     0                       1      1  1332633600   \n",
       "3                     0                       7      1  1203379200   \n",
       "4                     2                       2      1  1215302400   \n",
       "\n",
       "                                Summary  \\\n",
       "0                     Not as Advertised   \n",
       "1  My Cats Are Not Fans of the New Food   \n",
       "2                       Nasty No flavor   \n",
       "3                         Don't like it   \n",
       "4                        stale product.   \n",
       "\n",
       "                                                Text  \n",
       "0  Product arrived labeled as Jumbo Salted Peanut...  \n",
       "1  My cats have been happily eating Felidae Plati...  \n",
       "2  The candy is just red , No flavor . Just  plan...  \n",
       "3  This oatmeal is not good. Its mushy, soft, I d...  \n",
       "4  Arrived in 6 days and were so stale i could no...  "
      ]
     },
     "execution_count": 8,
     "metadata": {},
     "output_type": "execute_result"
    }
   ],
   "source": [
    "data = pd.read_csv(\"reviews_df.csv\")\n",
    "data.head()"
   ]
  },
  {
   "cell_type": "code",
   "execution_count": 9,
   "id": "92cc6bc8",
   "metadata": {},
   "outputs": [
    {
     "data": {
      "text/plain": [
       "(120000, 11)"
      ]
     },
     "execution_count": 9,
     "metadata": {},
     "output_type": "execute_result"
    }
   ],
   "source": [
    "data.shape"
   ]
  },
  {
   "cell_type": "code",
   "execution_count": 10,
   "id": "60da3436",
   "metadata": {},
   "outputs": [
    {
     "data": {
      "text/plain": [
       "Unnamed: 0                 0\n",
       "Id                         0\n",
       "ProductId                  0\n",
       "UserId                     0\n",
       "ProfileName               12\n",
       "HelpfulnessNumerator       0\n",
       "HelpfulnessDenominator     0\n",
       "Score                      0\n",
       "Time                       0\n",
       "Summary                    4\n",
       "Text                       0\n",
       "dtype: int64"
      ]
     },
     "execution_count": 10,
     "metadata": {},
     "output_type": "execute_result"
    }
   ],
   "source": [
    "data.isnull().sum()"
   ]
  },
  {
   "cell_type": "code",
   "execution_count": null,
   "id": "cbe5f8ee",
   "metadata": {},
   "outputs": [],
   "source": [
    "#food is grate 4.5"
   ]
  },
  {
   "cell_type": "code",
   "execution_count": 11,
   "id": "064986aa",
   "metadata": {},
   "outputs": [],
   "source": [
    "data=data.dropna()"
   ]
  },
  {
   "cell_type": "code",
   "execution_count": 12,
   "id": "c91e1db1",
   "metadata": {},
   "outputs": [
    {
     "name": "stdout",
     "output_type": "stream",
     "text": [
      "<class 'pandas.core.frame.DataFrame'>\n",
      "Int64Index: 119984 entries, 0 to 119999\n",
      "Data columns (total 11 columns):\n",
      " #   Column                  Non-Null Count   Dtype \n",
      "---  ------                  --------------   ----- \n",
      " 0   Unnamed: 0              119984 non-null  int64 \n",
      " 1   Id                      119984 non-null  int64 \n",
      " 2   ProductId               119984 non-null  object\n",
      " 3   UserId                  119984 non-null  object\n",
      " 4   ProfileName             119984 non-null  object\n",
      " 5   HelpfulnessNumerator    119984 non-null  int64 \n",
      " 6   HelpfulnessDenominator  119984 non-null  int64 \n",
      " 7   Score                   119984 non-null  int64 \n",
      " 8   Time                    119984 non-null  int64 \n",
      " 9   Summary                 119984 non-null  object\n",
      " 10  Text                    119984 non-null  object\n",
      "dtypes: int64(6), object(5)\n",
      "memory usage: 11.0+ MB\n"
     ]
    }
   ],
   "source": [
    "data.info()"
   ]
  },
  {
   "cell_type": "code",
   "execution_count": 13,
   "id": "f50e7ba7",
   "metadata": {},
   "outputs": [
    {
     "data": {
      "text/plain": [
       "3    39997\n",
       "4    39994\n",
       "1    39993\n",
       "Name: Score, dtype: int64"
      ]
     },
     "execution_count": 13,
     "metadata": {},
     "output_type": "execute_result"
    }
   ],
   "source": [
    "data.Score.value_counts()"
   ]
  },
  {
   "cell_type": "markdown",
   "id": "26543392",
   "metadata": {},
   "source": [
    "###  Exploratory Data Analysis"
   ]
  },
  {
   "cell_type": "code",
   "execution_count": 14,
   "id": "19b82b19",
   "metadata": {},
   "outputs": [
    {
     "data": {
      "image/png": "[encoded data removed]",
      "text/plain": [
       "<Figure size 432x288 with 1 Axes>"
      ]
     },
     "metadata": {
      "needs_background": "light"
     },
     "output_type": "display_data"
    }
   ],
   "source": [
    "sns.distplot(data.Score);"
   ]
  },
  {
   "cell_type": "code",
   "execution_count": null,
   "id": "53658e83",
   "metadata": {},
   "outputs": [],
   "source": []
  },
  {
   "cell_type": "code",
   "execution_count": 15,
   "id": "1e8e565a",
   "metadata": {},
   "outputs": [
    {
     "data": {
      "image/png": "[encoded data removed]",
      "text/plain": [
       "<Figure size 432x288 with 1 Axes>"
      ]
     },
     "metadata": {
      "needs_background": "light"
     },
     "output_type": "display_data"
    }
   ],
   "source": [
    "sns.countplot(data.Score);"
   ]
  },
  {
   "cell_type": "markdown",
   "id": "2b30a25f",
   "metadata": {},
   "source": [
    "### Changing Taraget varible to Positive or Negetive or Neutral"
   ]
  },
  {
   "cell_type": "code",
   "execution_count": 16,
   "id": "75dedf3d",
   "metadata": {},
   "outputs": [],
   "source": [
    "my_dict = {5:\"1\",4:\"1\",2:\"-1\",1:\"-1\",3:'0'}"
   ]
  },
  {
   "cell_type": "code",
   "execution_count": null,
   "id": "ca32f403",
   "metadata": {},
   "outputs": [],
   "source": [
    "1-positive\n",
    "-1-negative\n",
    "0-neutral"
   ]
  },
  {
   "cell_type": "code",
   "execution_count": 17,
   "id": "a8c7cc23",
   "metadata": {},
   "outputs": [
    {
     "data": {
      "text/html": [
       "<div>\n",
       "<style scoped>\n",
       "    .dataframe tbody tr th:only-of-type {\n",
       "        vertical-align: middle;\n",
       "    }\n",
       "\n",
       "    .dataframe tbody tr th {\n",
       "        vertical-align: top;\n",
       "    }\n",
       "\n",
       "    .dataframe thead th {\n",
       "        text-align: right;\n",
       "    }\n",
       "</style>\n",
       "<table border=\"1\" class=\"dataframe\">\n",
       "  <thead>\n",
       "    <tr style=\"text-align: right;\">\n",
       "      <th></th>\n",
       "      <th>Unnamed: 0</th>\n",
       "      <th>Id</th>\n",
       "      <th>ProductId</th>\n",
       "      <th>UserId</th>\n",
       "      <th>ProfileName</th>\n",
       "      <th>HelpfulnessNumerator</th>\n",
       "      <th>HelpfulnessDenominator</th>\n",
       "      <th>Score</th>\n",
       "      <th>Time</th>\n",
       "      <th>Summary</th>\n",
       "      <th>Text</th>\n",
       "    </tr>\n",
       "  </thead>\n",
       "  <tbody>\n",
       "    <tr>\n",
       "      <th>0</th>\n",
       "      <td>0</td>\n",
       "      <td>2</td>\n",
       "      <td>B00813GRG4</td>\n",
       "      <td>A1D87F6ZCVE5NK</td>\n",
       "      <td>dll pa</td>\n",
       "      <td>0</td>\n",
       "      <td>0</td>\n",
       "      <td>1</td>\n",
       "      <td>1346976000</td>\n",
       "      <td>Not as Advertised</td>\n",
       "      <td>Product arrived labeled as Jumbo Salted Peanut...</td>\n",
       "    </tr>\n",
       "    <tr>\n",
       "      <th>1</th>\n",
       "      <td>1</td>\n",
       "      <td>13</td>\n",
       "      <td>B0009XLVG0</td>\n",
       "      <td>A327PCT23YH90</td>\n",
       "      <td>LT</td>\n",
       "      <td>1</td>\n",
       "      <td>1</td>\n",
       "      <td>1</td>\n",
       "      <td>1339545600</td>\n",
       "      <td>My Cats Are Not Fans of the New Food</td>\n",
       "      <td>My cats have been happily eating Felidae Plati...</td>\n",
       "    </tr>\n",
       "    <tr>\n",
       "      <th>2</th>\n",
       "      <td>2</td>\n",
       "      <td>27</td>\n",
       "      <td>B001GVISJM</td>\n",
       "      <td>A3RXAU2N8KV45G</td>\n",
       "      <td>lady21</td>\n",
       "      <td>0</td>\n",
       "      <td>1</td>\n",
       "      <td>1</td>\n",
       "      <td>1332633600</td>\n",
       "      <td>Nasty No flavor</td>\n",
       "      <td>The candy is just red , No flavor . Just  plan...</td>\n",
       "    </tr>\n",
       "    <tr>\n",
       "      <th>3</th>\n",
       "      <td>3</td>\n",
       "      <td>51</td>\n",
       "      <td>B001EO5QW8</td>\n",
       "      <td>A108P30XVUFKXY</td>\n",
       "      <td>Roberto A</td>\n",
       "      <td>0</td>\n",
       "      <td>7</td>\n",
       "      <td>1</td>\n",
       "      <td>1203379200</td>\n",
       "      <td>Don't like it</td>\n",
       "      <td>This oatmeal is not good. Its mushy, soft, I d...</td>\n",
       "    </tr>\n",
       "    <tr>\n",
       "      <th>4</th>\n",
       "      <td>4</td>\n",
       "      <td>63</td>\n",
       "      <td>B001EO5TPM</td>\n",
       "      <td>A1E09XGZUR78C6</td>\n",
       "      <td>gary sturrock</td>\n",
       "      <td>2</td>\n",
       "      <td>2</td>\n",
       "      <td>1</td>\n",
       "      <td>1215302400</td>\n",
       "      <td>stale product.</td>\n",
       "      <td>Arrived in 6 days and were so stale i could no...</td>\n",
       "    </tr>\n",
       "  </tbody>\n",
       "</table>\n",
       "</div>"
      ],
      "text/plain": [
       "   Unnamed: 0  Id   ProductId          UserId    ProfileName  \\\n",
       "0           0   2  B00813GRG4  A1D87F6ZCVE5NK         dll pa   \n",
       "1           1  13  B0009XLVG0   A327PCT23YH90             LT   \n",
       "2           2  27  B001GVISJM  A3RXAU2N8KV45G         lady21   \n",
       "3           3  51  B001EO5QW8  A108P30XVUFKXY      Roberto A   \n",
       "4           4  63  B001EO5TPM  A1E09XGZUR78C6  gary sturrock   \n",
       "\n",
       "   HelpfulnessNumerator  HelpfulnessDenominator  Score        Time  \\\n",
       "0                     0                       0      1  1346976000   \n",
       "1                     1                       1      1  1339545600   \n",
       "2                     0                       1      1  1332633600   \n",
       "3                     0                       7      1  1203379200   \n",
       "4                     2                       2      1  1215302400   \n",
       "\n",
       "                                Summary  \\\n",
       "0                     Not as Advertised   \n",
       "1  My Cats Are Not Fans of the New Food   \n",
       "2                       Nasty No flavor   \n",
       "3                         Don't like it   \n",
       "4                        stale product.   \n",
       "\n",
       "                                                Text  \n",
       "0  Product arrived labeled as Jumbo Salted Peanut...  \n",
       "1  My cats have been happily eating Felidae Plati...  \n",
       "2  The candy is just red , No flavor . Just  plan...  \n",
       "3  This oatmeal is not good. Its mushy, soft, I d...  \n",
       "4  Arrived in 6 days and were so stale i could no...  "
      ]
     },
     "execution_count": 17,
     "metadata": {},
     "output_type": "execute_result"
    }
   ],
   "source": [
    "data.head()"
   ]
  },
  {
   "cell_type": "code",
   "execution_count": 18,
   "id": "20c22be4",
   "metadata": {
    "scrolled": true
   },
   "outputs": [],
   "source": [
    "data[\"Score\"] = data[\"Score\"].apply(lambda x: my_dict[x])"
   ]
  },
  {
   "cell_type": "code",
   "execution_count": 19,
   "id": "9adb7239",
   "metadata": {},
   "outputs": [
    {
     "data": {
      "text/html": [
       "<div>\n",
       "<style scoped>\n",
       "    .dataframe tbody tr th:only-of-type {\n",
       "        vertical-align: middle;\n",
       "    }\n",
       "\n",
       "    .dataframe tbody tr th {\n",
       "        vertical-align: top;\n",
       "    }\n",
       "\n",
       "    .dataframe thead th {\n",
       "        text-align: right;\n",
       "    }\n",
       "</style>\n",
       "<table border=\"1\" class=\"dataframe\">\n",
       "  <thead>\n",
       "    <tr style=\"text-align: right;\">\n",
       "      <th></th>\n",
       "      <th>Unnamed: 0</th>\n",
       "      <th>Id</th>\n",
       "      <th>ProductId</th>\n",
       "      <th>UserId</th>\n",
       "      <th>ProfileName</th>\n",
       "      <th>HelpfulnessNumerator</th>\n",
       "      <th>HelpfulnessDenominator</th>\n",
       "      <th>Score</th>\n",
       "      <th>Time</th>\n",
       "      <th>Summary</th>\n",
       "      <th>Text</th>\n",
       "    </tr>\n",
       "  </thead>\n",
       "  <tbody>\n",
       "    <tr>\n",
       "      <th>0</th>\n",
       "      <td>0</td>\n",
       "      <td>2</td>\n",
       "      <td>B00813GRG4</td>\n",
       "      <td>A1D87F6ZCVE5NK</td>\n",
       "      <td>dll pa</td>\n",
       "      <td>0</td>\n",
       "      <td>0</td>\n",
       "      <td>-1</td>\n",
       "      <td>1346976000</td>\n",
       "      <td>Not as Advertised</td>\n",
       "      <td>Product arrived labeled as Jumbo Salted Peanut...</td>\n",
       "    </tr>\n",
       "    <tr>\n",
       "      <th>1</th>\n",
       "      <td>1</td>\n",
       "      <td>13</td>\n",
       "      <td>B0009XLVG0</td>\n",
       "      <td>A327PCT23YH90</td>\n",
       "      <td>LT</td>\n",
       "      <td>1</td>\n",
       "      <td>1</td>\n",
       "      <td>-1</td>\n",
       "      <td>1339545600</td>\n",
       "      <td>My Cats Are Not Fans of the New Food</td>\n",
       "      <td>My cats have been happily eating Felidae Plati...</td>\n",
       "    </tr>\n",
       "    <tr>\n",
       "      <th>2</th>\n",
       "      <td>2</td>\n",
       "      <td>27</td>\n",
       "      <td>B001GVISJM</td>\n",
       "      <td>A3RXAU2N8KV45G</td>\n",
       "      <td>lady21</td>\n",
       "      <td>0</td>\n",
       "      <td>1</td>\n",
       "      <td>-1</td>\n",
       "      <td>1332633600</td>\n",
       "      <td>Nasty No flavor</td>\n",
       "      <td>The candy is just red , No flavor . Just  plan...</td>\n",
       "    </tr>\n",
       "    <tr>\n",
       "      <th>3</th>\n",
       "      <td>3</td>\n",
       "      <td>51</td>\n",
       "      <td>B001EO5QW8</td>\n",
       "      <td>A108P30XVUFKXY</td>\n",
       "      <td>Roberto A</td>\n",
       "      <td>0</td>\n",
       "      <td>7</td>\n",
       "      <td>-1</td>\n",
       "      <td>1203379200</td>\n",
       "      <td>Don't like it</td>\n",
       "      <td>This oatmeal is not good. Its mushy, soft, I d...</td>\n",
       "    </tr>\n",
       "    <tr>\n",
       "      <th>4</th>\n",
       "      <td>4</td>\n",
       "      <td>63</td>\n",
       "      <td>B001EO5TPM</td>\n",
       "      <td>A1E09XGZUR78C6</td>\n",
       "      <td>gary sturrock</td>\n",
       "      <td>2</td>\n",
       "      <td>2</td>\n",
       "      <td>-1</td>\n",
       "      <td>1215302400</td>\n",
       "      <td>stale product.</td>\n",
       "      <td>Arrived in 6 days and were so stale i could no...</td>\n",
       "    </tr>\n",
       "  </tbody>\n",
       "</table>\n",
       "</div>"
      ],
      "text/plain": [
       "   Unnamed: 0  Id   ProductId          UserId    ProfileName  \\\n",
       "0           0   2  B00813GRG4  A1D87F6ZCVE5NK         dll pa   \n",
       "1           1  13  B0009XLVG0   A327PCT23YH90             LT   \n",
       "2           2  27  B001GVISJM  A3RXAU2N8KV45G         lady21   \n",
       "3           3  51  B001EO5QW8  A108P30XVUFKXY      Roberto A   \n",
       "4           4  63  B001EO5TPM  A1E09XGZUR78C6  gary sturrock   \n",
       "\n",
       "   HelpfulnessNumerator  HelpfulnessDenominator Score        Time  \\\n",
       "0                     0                       0    -1  1346976000   \n",
       "1                     1                       1    -1  1339545600   \n",
       "2                     0                       1    -1  1332633600   \n",
       "3                     0                       7    -1  1203379200   \n",
       "4                     2                       2    -1  1215302400   \n",
       "\n",
       "                                Summary  \\\n",
       "0                     Not as Advertised   \n",
       "1  My Cats Are Not Fans of the New Food   \n",
       "2                       Nasty No flavor   \n",
       "3                         Don't like it   \n",
       "4                        stale product.   \n",
       "\n",
       "                                                Text  \n",
       "0  Product arrived labeled as Jumbo Salted Peanut...  \n",
       "1  My cats have been happily eating Felidae Plati...  \n",
       "2  The candy is just red , No flavor . Just  plan...  \n",
       "3  This oatmeal is not good. Its mushy, soft, I d...  \n",
       "4  Arrived in 6 days and were so stale i could no...  "
      ]
     },
     "execution_count": 19,
     "metadata": {},
     "output_type": "execute_result"
    }
   ],
   "source": [
    "data.head()"
   ]
  },
  {
   "cell_type": "code",
   "execution_count": 20,
   "id": "ce4b92e6",
   "metadata": {
    "scrolled": true
   },
   "outputs": [
    {
     "data": {
      "image/png": "[encoded data removed]",
      "text/plain": [
       "<Figure size 432x288 with 1 Axes>"
      ]
     },
     "metadata": {
      "needs_background": "light"
     },
     "output_type": "display_data"
    }
   ],
   "source": [
    "sns.countplot(data.Score);"
   ]
  },
  {
   "cell_type": "code",
   "execution_count": 21,
   "id": "a9fe2aaa",
   "metadata": {
    "scrolled": true
   },
   "outputs": [
    {
     "data": {
      "text/plain": [
       "0     39997\n",
       "1     39994\n",
       "-1    39993\n",
       "Name: Score, dtype: int64"
      ]
     },
     "execution_count": 21,
     "metadata": {},
     "output_type": "execute_result"
    }
   ],
   "source": [
    "data.Score.value_counts()"
   ]
  },
  {
   "cell_type": "markdown",
   "id": "e3f29f41",
   "metadata": {},
   "source": [
    "### Spliting into X and y"
   ]
  },
  {
   "cell_type": "code",
   "execution_count": 22,
   "id": "23530fd2",
   "metadata": {},
   "outputs": [],
   "source": [
    "X= data[[\"Summary\"]]\n",
    "y = data[\"Score\"]"
   ]
  },
  {
   "cell_type": "markdown",
   "id": "3332410d",
   "metadata": {},
   "source": [
    "### split into train and test"
   ]
  },
  {
   "cell_type": "code",
   "execution_count": 23,
   "id": "580e0b49",
   "metadata": {},
   "outputs": [],
   "source": [
    "from sklearn.model_selection import train_test_split\n",
    "X_train , X_test, y_train, y_test = train_test_split(X,y, train_size=0.7, random_state=143)"
   ]
  },
  {
   "cell_type": "code",
   "execution_count": 24,
   "id": "f536891e",
   "metadata": {},
   "outputs": [
    {
     "name": "stdout",
     "output_type": "stream",
     "text": [
      "(83988, 1) (83988,)\n",
      "(35996, 1) (35996,)\n"
     ]
    }
   ],
   "source": [
    "print(X_train.shape,y_train.shape)\n",
    "print( X_test.shape, y_test.shape)\n"
   ]
  },
  {
   "cell_type": "markdown",
   "id": "5aaf1ff3",
   "metadata": {},
   "source": [
    "###  Text Preprocessing"
   ]
  },
  {
   "cell_type": "code",
   "execution_count": 25,
   "id": "7be8dd9b",
   "metadata": {},
   "outputs": [],
   "source": [
    "from tqdm import tqdm\n",
    "tqdm.pandas()"
   ]
  },
  {
   "cell_type": "code",
   "execution_count": 26,
   "id": "e83f3cd8",
   "metadata": {},
   "outputs": [],
   "source": [
    "stopword = stopwords.words(\"english\")"
   ]
  },
  {
   "cell_type": "code",
   "execution_count": 27,
   "id": "f85ac2fc",
   "metadata": {},
   "outputs": [],
   "source": [
    "stopword.remove(\"not\")"
   ]
  },
  {
   "cell_type": "code",
   "execution_count": 28,
   "id": "b1f5f8b6",
   "metadata": {},
   "outputs": [
    {
     "data": {
      "text/plain": [
       "99238                          Likable but not spectacular\n",
       "34395                                   Not crazy about it\n",
       "64613                                                  Meh\n",
       "44215                         Doesn't taste like Diet Coke\n",
       "14610     Freeze drying doesn't work well with soybeans...\n",
       "                                ...                       \n",
       "782                                     Poor quality Kcups\n",
       "92784                                        Good Product!\n",
       "113234                  Kuchen Meister four and half stars\n",
       "20331                               doesn't deserve a star\n",
       "2046                               Mine Also BURNT flavor!\n",
       "Name: Summary, Length: 83988, dtype: object"
      ]
     },
     "execution_count": 28,
     "metadata": {},
     "output_type": "execute_result"
    }
   ],
   "source": [
    "X_train[\"Summary\"]"
   ]
  },
  {
   "cell_type": "code",
   "execution_count": 29,
   "id": "58f2bde9",
   "metadata": {},
   "outputs": [
    {
     "data": {
      "text/plain": [
       "'Just like gas station coffee :)'"
      ]
     },
     "execution_count": 29,
     "metadata": {},
     "output_type": "execute_result"
    }
   ],
   "source": [
    "X_train[\"Summary\"][97506]"
   ]
  },
  {
   "cell_type": "code",
   "execution_count": null,
   "id": "fe0bb9b8",
   "metadata": {},
   "outputs": [],
   "source": []
  },
  {
   "cell_type": "code",
   "execution_count": 30,
   "id": "41bce96b",
   "metadata": {},
   "outputs": [],
   "source": [
    "def preprocess(raw_text):\n",
    "    lemma = WordNetLemmatizer()\n",
    "#     raw_text = str(raw_text)\n",
    "    sentence = re.sub(\"[^a-zA-Z0-9]\", \" \", raw_text)\n",
    "#     sentence = re.sub(r'[0-9]', '',str(raw_text))\n",
    "#     sentence = sentence.isalpha()\n",
    "    sentence = sentence.lower()\n",
    "\n",
    "    tokens = sentence.split()          \n",
    "    clean_tokens = [t for t in tokens if not t in stopwords.words(\"english\")]\n",
    "    clean_tokens = [lemma.lemmatize(word) for word in clean_tokens]\n",
    "    \n",
    "    return pd.Series([\" \".join(clean_tokens)])"
   ]
  },
  {
   "cell_type": "code",
   "execution_count": 31,
   "id": "476e2f20",
   "metadata": {},
   "outputs": [
    {
     "data": {
      "text/plain": [
       "array(['Likable but not spectacular', 'Not crazy about it', 'Meh', ...,\n",
       "       \"Would have been great if one of the bags didn't open\",\n",
       "       'Kuchen Meister four and half stars', \"doesn't deserve a star\"],\n",
       "      dtype=object)"
      ]
     },
     "execution_count": 31,
     "metadata": {},
     "output_type": "execute_result"
    }
   ],
   "source": [
    "X_train[\"Summary\"].unique()"
   ]
  },
  {
   "cell_type": "code",
   "execution_count": null,
   "id": "ebf0ab51",
   "metadata": {},
   "outputs": [],
   "source": []
  },
  {
   "cell_type": "code",
   "execution_count": 32,
   "id": "789337b6",
   "metadata": {},
   "outputs": [
    {
     "name": "stderr",
     "output_type": "stream",
     "text": [
      "100%|███████████████████████████████████████████████████████████████████████████| 83988/83988 [02:34<00:00, 544.09it/s]\n"
     ]
    }
   ],
   "source": [
    "X_train_transformed = X_train[\"Summary\"].progress_apply(lambda x: preprocess(x))"
   ]
  },
  {
   "cell_type": "markdown",
   "id": "8d235367",
   "metadata": {},
   "source": [
    "####  Before preprocessing text"
   ]
  },
  {
   "cell_type": "code",
   "execution_count": 33,
   "id": "51183141",
   "metadata": {
    "scrolled": true
   },
   "outputs": [
    {
     "data": {
      "text/html": [
       "<div>\n",
       "<style scoped>\n",
       "    .dataframe tbody tr th:only-of-type {\n",
       "        vertical-align: middle;\n",
       "    }\n",
       "\n",
       "    .dataframe tbody tr th {\n",
       "        vertical-align: top;\n",
       "    }\n",
       "\n",
       "    .dataframe thead th {\n",
       "        text-align: right;\n",
       "    }\n",
       "</style>\n",
       "<table border=\"1\" class=\"dataframe\">\n",
       "  <thead>\n",
       "    <tr style=\"text-align: right;\">\n",
       "      <th></th>\n",
       "      <th>Summary</th>\n",
       "    </tr>\n",
       "  </thead>\n",
       "  <tbody>\n",
       "    <tr>\n",
       "      <th>99238</th>\n",
       "      <td>Likable but not spectacular</td>\n",
       "    </tr>\n",
       "    <tr>\n",
       "      <th>34395</th>\n",
       "      <td>Not crazy about it</td>\n",
       "    </tr>\n",
       "    <tr>\n",
       "      <th>64613</th>\n",
       "      <td>Meh</td>\n",
       "    </tr>\n",
       "    <tr>\n",
       "      <th>44215</th>\n",
       "      <td>Doesn't taste like Diet Coke</td>\n",
       "    </tr>\n",
       "    <tr>\n",
       "      <th>14610</th>\n",
       "      <td>Freeze drying doesn't work well with soybeans...</td>\n",
       "    </tr>\n",
       "  </tbody>\n",
       "</table>\n",
       "</div>"
      ],
      "text/plain": [
       "                                                Summary\n",
       "99238                       Likable but not spectacular\n",
       "34395                                Not crazy about it\n",
       "64613                                               Meh\n",
       "44215                      Doesn't taste like Diet Coke\n",
       "14610  Freeze drying doesn't work well with soybeans..."
      ]
     },
     "execution_count": 33,
     "metadata": {},
     "output_type": "execute_result"
    }
   ],
   "source": [
    "X_train.head()"
   ]
  },
  {
   "cell_type": "markdown",
   "id": "d3f24b6c",
   "metadata": {},
   "source": [
    "####  After Preprocessing text"
   ]
  },
  {
   "cell_type": "code",
   "execution_count": 34,
   "id": "0f885985",
   "metadata": {
    "scrolled": true
   },
   "outputs": [
    {
     "data": {
      "text/html": [
       "<div>\n",
       "<style scoped>\n",
       "    .dataframe tbody tr th:only-of-type {\n",
       "        vertical-align: middle;\n",
       "    }\n",
       "\n",
       "    .dataframe tbody tr th {\n",
       "        vertical-align: top;\n",
       "    }\n",
       "\n",
       "    .dataframe thead th {\n",
       "        text-align: right;\n",
       "    }\n",
       "</style>\n",
       "<table border=\"1\" class=\"dataframe\">\n",
       "  <thead>\n",
       "    <tr style=\"text-align: right;\">\n",
       "      <th></th>\n",
       "      <th>0</th>\n",
       "    </tr>\n",
       "  </thead>\n",
       "  <tbody>\n",
       "    <tr>\n",
       "      <th>99238</th>\n",
       "      <td>likable spectacular</td>\n",
       "    </tr>\n",
       "    <tr>\n",
       "      <th>34395</th>\n",
       "      <td>crazy</td>\n",
       "    </tr>\n",
       "    <tr>\n",
       "      <th>64613</th>\n",
       "      <td>meh</td>\n",
       "    </tr>\n",
       "    <tr>\n",
       "      <th>44215</th>\n",
       "      <td>taste like diet coke</td>\n",
       "    </tr>\n",
       "    <tr>\n",
       "      <th>14610</th>\n",
       "      <td>freeze drying work well soybean</td>\n",
       "    </tr>\n",
       "  </tbody>\n",
       "</table>\n",
       "</div>"
      ],
      "text/plain": [
       "                                     0\n",
       "99238              likable spectacular\n",
       "34395                            crazy\n",
       "64613                              meh\n",
       "44215             taste like diet coke\n",
       "14610  freeze drying work well soybean"
      ]
     },
     "execution_count": 34,
     "metadata": {},
     "output_type": "execute_result"
    }
   ],
   "source": [
    "X_train_transformed.head()"
   ]
  },
  {
   "cell_type": "markdown",
   "id": "971202d1",
   "metadata": {},
   "source": [
    "###  conv text to BOW of Train Data"
   ]
  },
  {
   "cell_type": "code",
   "execution_count": null,
   "id": "ebd4606a",
   "metadata": {},
   "outputs": [],
   "source": [
    "#bag of words"
   ]
  },
  {
   "cell_type": "code",
   "execution_count": 35,
   "id": "cab44dab",
   "metadata": {},
   "outputs": [],
   "source": [
    "from sklearn.feature_extraction.text import CountVectorizer"
   ]
  },
  {
   "cell_type": "code",
   "execution_count": 36,
   "id": "dfbf6592",
   "metadata": {},
   "outputs": [],
   "source": [
    "vec = CountVectorizer()\n",
    "vec.fit(X_train_transformed[0])\n",
    "X_train_bow = vec.transform(X_train_transformed[0])"
   ]
  },
  {
   "cell_type": "code",
   "execution_count": 37,
   "id": "0080d11e",
   "metadata": {},
   "outputs": [],
   "source": [
    "import joblib\n"
   ]
  },
  {
   "cell_type": "code",
   "execution_count": 38,
   "id": "0125d812",
   "metadata": {},
   "outputs": [
    {
     "data": {
      "text/plain": [
       "['vec.pkl']"
      ]
     },
     "execution_count": 38,
     "metadata": {},
     "output_type": "execute_result"
    }
   ],
   "source": [
    "joblib.dump(vec,\"vec.pkl\")"
   ]
  },
  {
   "cell_type": "code",
   "execution_count": null,
   "id": "6d301b85",
   "metadata": {},
   "outputs": [],
   "source": []
  },
  {
   "cell_type": "code",
   "execution_count": 39,
   "id": "7c74806f",
   "metadata": {},
   "outputs": [
    {
     "data": {
      "text/plain": [
       "<83988x12195 sparse matrix of type '<class 'numpy.int64'>'\n",
       "\twith 243554 stored elements in Compressed Sparse Row format>"
      ]
     },
     "execution_count": 39,
     "metadata": {},
     "output_type": "execute_result"
    }
   ],
   "source": [
    "X_train_bow"
   ]
  },
  {
   "cell_type": "code",
   "execution_count": 40,
   "id": "cbc2755c",
   "metadata": {},
   "outputs": [
    {
     "name": "stdout",
     "output_type": "stream",
     "text": [
      "Total unique words: 12195\n",
      "Type of train features: <class 'scipy.sparse.csr.csr_matrix'>\n",
      "Shape of input data: (83988, 12195)\n"
     ]
    }
   ],
   "source": [
    "print(\"Total unique words:\", len(vec.vocabulary_))\n",
    "\n",
    "print(\"Type of train features:\", type(X_train_bow))\n",
    "\n",
    "print(\"Shape of input data:\", X_train_bow.shape)"
   ]
  },
  {
   "cell_type": "markdown",
   "id": "839d0a89",
   "metadata": {},
   "source": [
    "### Preparing Test Data"
   ]
  },
  {
   "cell_type": "code",
   "execution_count": 41,
   "id": "b031a2dd",
   "metadata": {},
   "outputs": [
    {
     "data": {
      "text/html": [
       "<div>\n",
       "<style scoped>\n",
       "    .dataframe tbody tr th:only-of-type {\n",
       "        vertical-align: middle;\n",
       "    }\n",
       "\n",
       "    .dataframe tbody tr th {\n",
       "        vertical-align: top;\n",
       "    }\n",
       "\n",
       "    .dataframe thead th {\n",
       "        text-align: right;\n",
       "    }\n",
       "</style>\n",
       "<table border=\"1\" class=\"dataframe\">\n",
       "  <thead>\n",
       "    <tr style=\"text-align: right;\">\n",
       "      <th></th>\n",
       "      <th>Summary</th>\n",
       "    </tr>\n",
       "  </thead>\n",
       "  <tbody>\n",
       "    <tr>\n",
       "      <th>41770</th>\n",
       "      <td>Greenies</td>\n",
       "    </tr>\n",
       "    <tr>\n",
       "      <th>71090</th>\n",
       "      <td>Just okay</td>\n",
       "    </tr>\n",
       "    <tr>\n",
       "      <th>28235</th>\n",
       "      <td>Puck soup cans</td>\n",
       "    </tr>\n",
       "    <tr>\n",
       "      <th>107703</th>\n",
       "      <td>Beautiful Tasting Oil!</td>\n",
       "    </tr>\n",
       "    <tr>\n",
       "      <th>24418</th>\n",
       "      <td>cough syrup. Undrinkable</td>\n",
       "    </tr>\n",
       "  </tbody>\n",
       "</table>\n",
       "</div>"
      ],
      "text/plain": [
       "                         Summary\n",
       "41770                   Greenies\n",
       "71090                  Just okay\n",
       "28235             Puck soup cans\n",
       "107703    Beautiful Tasting Oil!\n",
       "24418   cough syrup. Undrinkable"
      ]
     },
     "execution_count": 41,
     "metadata": {},
     "output_type": "execute_result"
    }
   ],
   "source": [
    "X_test.head()"
   ]
  },
  {
   "cell_type": "code",
   "execution_count": 42,
   "id": "68f081ae",
   "metadata": {},
   "outputs": [
    {
     "name": "stderr",
     "output_type": "stream",
     "text": [
      "100%|███████████████████████████████████████████████████████████████████████████| 35996/35996 [01:02<00:00, 571.75it/s]\n"
     ]
    },
    {
     "data": {
      "text/html": [
       "<div>\n",
       "<style scoped>\n",
       "    .dataframe tbody tr th:only-of-type {\n",
       "        vertical-align: middle;\n",
       "    }\n",
       "\n",
       "    .dataframe tbody tr th {\n",
       "        vertical-align: top;\n",
       "    }\n",
       "\n",
       "    .dataframe thead th {\n",
       "        text-align: right;\n",
       "    }\n",
       "</style>\n",
       "<table border=\"1\" class=\"dataframe\">\n",
       "  <thead>\n",
       "    <tr style=\"text-align: right;\">\n",
       "      <th></th>\n",
       "      <th>0</th>\n",
       "    </tr>\n",
       "  </thead>\n",
       "  <tbody>\n",
       "    <tr>\n",
       "      <th>41770</th>\n",
       "      <td>greenies</td>\n",
       "    </tr>\n",
       "    <tr>\n",
       "      <th>71090</th>\n",
       "      <td>okay</td>\n",
       "    </tr>\n",
       "    <tr>\n",
       "      <th>28235</th>\n",
       "      <td>puck soup can</td>\n",
       "    </tr>\n",
       "    <tr>\n",
       "      <th>107703</th>\n",
       "      <td>beautiful tasting oil</td>\n",
       "    </tr>\n",
       "    <tr>\n",
       "      <th>24418</th>\n",
       "      <td>cough syrup undrinkable</td>\n",
       "    </tr>\n",
       "  </tbody>\n",
       "</table>\n",
       "</div>"
      ],
      "text/plain": [
       "                              0\n",
       "41770                  greenies\n",
       "71090                      okay\n",
       "28235             puck soup can\n",
       "107703    beautiful tasting oil\n",
       "24418   cough syrup undrinkable"
      ]
     },
     "execution_count": 42,
     "metadata": {},
     "output_type": "execute_result"
    }
   ],
   "source": [
    "X_test_transformed = X_test['Summary'].progress_apply(lambda x: preprocess(x))\n",
    "\n",
    "X_test_transformed.head()"
   ]
  },
  {
   "cell_type": "code",
   "execution_count": 43,
   "id": "c7dbbd01",
   "metadata": {},
   "outputs": [],
   "source": [
    "X_test_bow = vec.transform(X_test_transformed[0])"
   ]
  },
  {
   "cell_type": "code",
   "execution_count": 44,
   "id": "4bba5715",
   "metadata": {},
   "outputs": [
    {
     "data": {
      "text/plain": [
       "<35996x12195 sparse matrix of type '<class 'numpy.int64'>'\n",
       "\twith 102259 stored elements in Compressed Sparse Row format>"
      ]
     },
     "execution_count": 44,
     "metadata": {},
     "output_type": "execute_result"
    }
   ],
   "source": [
    "X_test_bow"
   ]
  },
  {
   "cell_type": "code",
   "execution_count": 45,
   "id": "f1d715dc",
   "metadata": {},
   "outputs": [
    {
     "name": "stdout",
     "output_type": "stream",
     "text": [
      "Total unique words: 12195\n",
      "Type of train features: <class 'scipy.sparse.csr.csr_matrix'>\n",
      "Shape of input data: (35996, 12195)\n"
     ]
    }
   ],
   "source": [
    "print(\"Total unique words:\", len(vec.vocabulary_))\n",
    "\n",
    "print(\"Type of train features:\", type(X_test_bow))\n",
    "\n",
    "print(\"Shape of input data:\", X_test_bow.shape)"
   ]
  },
  {
   "cell_type": "markdown",
   "id": "afb2da18",
   "metadata": {},
   "source": [
    "##  Applying Model"
   ]
  },
  {
   "cell_type": "markdown",
   "id": "735d1243",
   "metadata": {},
   "source": [
    "### Logistic Regression"
   ]
  },
  {
   "cell_type": "code",
   "execution_count": 46,
   "id": "88507b17",
   "metadata": {},
   "outputs": [
    {
     "data": {
      "text/plain": [
       "LogisticRegression()"
      ]
     },
     "execution_count": 46,
     "metadata": {},
     "output_type": "execute_result"
    }
   ],
   "source": [
    "from sklearn.linear_model import LogisticRegression\n",
    "classifier = LogisticRegression()\n",
    "classifier.fit(X_train_bow, y_train)"
   ]
  },
  {
   "cell_type": "code",
   "execution_count": 47,
   "id": "554fe73f",
   "metadata": {},
   "outputs": [
    {
     "data": {
      "text/plain": [
       "0.7217102443206173"
      ]
     },
     "execution_count": 47,
     "metadata": {},
     "output_type": "execute_result"
    }
   ],
   "source": [
    "classifier.score(X_train_bow, y_train)"
   ]
  },
  {
   "cell_type": "code",
   "execution_count": 48,
   "id": "9523d95b",
   "metadata": {},
   "outputs": [],
   "source": [
    "y_train_pred = classifier.predict(X_test_bow)"
   ]
  },
  {
   "cell_type": "code",
   "execution_count": 51,
   "id": "d1809572",
   "metadata": {},
   "outputs": [
    {
     "data": {
      "text/plain": [
       "0.6583231470163351"
      ]
     },
     "execution_count": 51,
     "metadata": {},
     "output_type": "execute_result"
    }
   ],
   "source": [
    "y_test_pred_lr = classifier.predict(X_test_bow)\n",
    "accuracy_score(y_test, y_test_pred_lr)"
   ]
  },
  {
   "cell_type": "code",
   "execution_count": 52,
   "id": "165dcd86",
   "metadata": {},
   "outputs": [],
   "source": [
    "temp_df = pd.DataFrame({\"actual\":y_test,\"pred\":y_train_pred})"
   ]
  },
  {
   "cell_type": "code",
   "execution_count": 53,
   "id": "25fe6fdc",
   "metadata": {},
   "outputs": [
    {
     "data": {
      "text/html": [
       "<div>\n",
       "<style scoped>\n",
       "    .dataframe tbody tr th:only-of-type {\n",
       "        vertical-align: middle;\n",
       "    }\n",
       "\n",
       "    .dataframe tbody tr th {\n",
       "        vertical-align: top;\n",
       "    }\n",
       "\n",
       "    .dataframe thead th {\n",
       "        text-align: right;\n",
       "    }\n",
       "</style>\n",
       "<table border=\"1\" class=\"dataframe\">\n",
       "  <thead>\n",
       "    <tr style=\"text-align: right;\">\n",
       "      <th></th>\n",
       "      <th>actual</th>\n",
       "      <th>pred</th>\n",
       "    </tr>\n",
       "  </thead>\n",
       "  <tbody>\n",
       "    <tr>\n",
       "      <th>41770</th>\n",
       "      <td>0</td>\n",
       "      <td>0</td>\n",
       "    </tr>\n",
       "    <tr>\n",
       "      <th>71090</th>\n",
       "      <td>0</td>\n",
       "      <td>0</td>\n",
       "    </tr>\n",
       "    <tr>\n",
       "      <th>28235</th>\n",
       "      <td>-1</td>\n",
       "      <td>-1</td>\n",
       "    </tr>\n",
       "    <tr>\n",
       "      <th>107703</th>\n",
       "      <td>1</td>\n",
       "      <td>1</td>\n",
       "    </tr>\n",
       "    <tr>\n",
       "      <th>24418</th>\n",
       "      <td>-1</td>\n",
       "      <td>-1</td>\n",
       "    </tr>\n",
       "  </tbody>\n",
       "</table>\n",
       "</div>"
      ],
      "text/plain": [
       "       actual pred\n",
       "41770       0    0\n",
       "71090       0    0\n",
       "28235      -1   -1\n",
       "107703      1    1\n",
       "24418      -1   -1"
      ]
     },
     "execution_count": 53,
     "metadata": {},
     "output_type": "execute_result"
    }
   ],
   "source": [
    "temp_df.head()"
   ]
  },
  {
   "cell_type": "code",
   "execution_count": 54,
   "id": "85ef8635",
   "metadata": {
    "scrolled": true
   },
   "outputs": [
    {
     "name": "stdout",
     "output_type": "stream",
     "text": [
      "              precision    recall  f1-score   support\n",
      "\n",
      "          -1       0.71      0.77      0.74     11998\n",
      "           0       0.61      0.52      0.56     11999\n",
      "           1       0.65      0.69      0.67     11999\n",
      "\n",
      "    accuracy                           0.66     35996\n",
      "   macro avg       0.65      0.66      0.65     35996\n",
      "weighted avg       0.65      0.66      0.65     35996\n",
      "\n"
     ]
    }
   ],
   "source": [
    "from sklearn.metrics import accuracy_score, classification_report\n",
    "\n",
    "\n",
    "print(classification_report(y_test, y_train_pred))"
   ]
  },
  {
   "cell_type": "code",
   "execution_count": null,
   "id": "3712ae2b",
   "metadata": {},
   "outputs": [],
   "source": []
  },
  {
   "cell_type": "markdown",
   "id": "66ace23a",
   "metadata": {},
   "source": [
    "###  Naive Bayes"
   ]
  },
  {
   "cell_type": "code",
   "execution_count": 55,
   "id": "4cff3d93",
   "metadata": {},
   "outputs": [
    {
     "data": {
      "text/plain": [
       "MultinomialNB()"
      ]
     },
     "execution_count": 55,
     "metadata": {},
     "output_type": "execute_result"
    }
   ],
   "source": [
    "from sklearn.naive_bayes import MultinomialNB\n",
    "nb = MultinomialNB()\n",
    "nb.fit(X_train_bow,y_train)"
   ]
  },
  {
   "cell_type": "code",
   "execution_count": 56,
   "id": "846f4db4",
   "metadata": {},
   "outputs": [
    {
     "data": {
      "text/plain": [
       "0.6975639377053865"
      ]
     },
     "execution_count": 56,
     "metadata": {},
     "output_type": "execute_result"
    }
   ],
   "source": [
    "nb.score(X_train_bow,y_train)"
   ]
  },
  {
   "cell_type": "code",
   "execution_count": 57,
   "id": "0cd71258",
   "metadata": {},
   "outputs": [],
   "source": [
    "y_test_pred_nb = nb.predict(X_test_bow)"
   ]
  },
  {
   "cell_type": "code",
   "execution_count": 58,
   "id": "77528be2",
   "metadata": {},
   "outputs": [
    {
     "data": {
      "text/plain": [
       "0.6446827425269475"
      ]
     },
     "execution_count": 58,
     "metadata": {},
     "output_type": "execute_result"
    }
   ],
   "source": [
    "accuracy_score(y_test, y_test_pred_nb)"
   ]
  },
  {
   "cell_type": "markdown",
   "id": "2c20e86c",
   "metadata": {},
   "source": [
    "### Random Forest"
   ]
  },
  {
   "cell_type": "code",
   "execution_count": 59,
   "id": "6e834767",
   "metadata": {},
   "outputs": [
    {
     "data": {
      "text/plain": [
       "RandomForestClassifier()"
      ]
     },
     "execution_count": 59,
     "metadata": {},
     "output_type": "execute_result"
    }
   ],
   "source": [
    "from sklearn.ensemble import RandomForestClassifier\n",
    "classifier_rf = RandomForestClassifier()\n",
    "classifier_rf.fit(X_train_bow, y_train)"
   ]
  },
  {
   "cell_type": "code",
   "execution_count": 60,
   "id": "05133498",
   "metadata": {},
   "outputs": [
    {
     "data": {
      "text/plain": [
       "0.9201433538124494"
      ]
     },
     "execution_count": 60,
     "metadata": {},
     "output_type": "execute_result"
    }
   ],
   "source": [
    "classifier_rf.score(X_train_bow,y_train)"
   ]
  },
  {
   "cell_type": "code",
   "execution_count": 61,
   "id": "9f40a64c",
   "metadata": {},
   "outputs": [
    {
     "data": {
      "text/plain": [
       "0.7090510056672964"
      ]
     },
     "execution_count": 61,
     "metadata": {},
     "output_type": "execute_result"
    }
   ],
   "source": [
    "y_test_pred_rf =classifier_rf.predict(X_test_bow)\n",
    "accuracy_score(y_test, y_test_pred_rf)"
   ]
  },
  {
   "cell_type": "code",
   "execution_count": 73,
   "id": "5f1e4ea2",
   "metadata": {},
   "outputs": [
    {
     "data": {
      "text/plain": [
       "Summary    Its like drinking battery acid\n",
       "Name: 15783, dtype: object"
      ]
     },
     "execution_count": 73,
     "metadata": {},
     "output_type": "execute_result"
    }
   ],
   "source": [
    "X_test.iloc[88]"
   ]
  },
  {
   "cell_type": "code",
   "execution_count": 74,
   "id": "e49d727c",
   "metadata": {},
   "outputs": [
    {
     "data": {
      "text/plain": [
       "'-1'"
      ]
     },
     "execution_count": 74,
     "metadata": {},
     "output_type": "execute_result"
    }
   ],
   "source": [
    "y_test.iloc[88]"
   ]
  },
  {
   "cell_type": "code",
   "execution_count": 76,
   "id": "d98fd2e1",
   "metadata": {},
   "outputs": [
    {
     "name": "stdout",
     "output_type": "stream",
     "text": [
      "-1\n"
     ]
    }
   ],
   "source": [
    "text = \"Its like drinking battery acid\"\n",
    "x = preprocess(text)\n",
    "v1 = vec.transform(x)\n",
    "p = classifier_rf.predict(v1)\n",
    "print(p[0])\n"
   ]
  },
  {
   "cell_type": "code",
   "execution_count": 77,
   "id": "cd54f020",
   "metadata": {},
   "outputs": [
    {
     "name": "stdout",
     "output_type": "stream",
     "text": [
      "Negative\n"
     ]
    }
   ],
   "source": [
    "if p[0]==\"-1\":\n",
    "    print(\"Negative\")\n",
    "elif p[0]==\"1\":\n",
    "    print(\"positive\")\n",
    "else:\n",
    "    print(\"neutral\")"
   ]
  },
  {
   "cell_type": "code",
   "execution_count": 72,
   "id": "ab138b88",
   "metadata": {},
   "outputs": [
    {
     "data": {
      "text/plain": [
       "array([[9449, 1716,  833],\n",
       "       [1853, 7784, 2362],\n",
       "       [1206, 2503, 8290]], dtype=int64)"
      ]
     },
     "execution_count": 72,
     "metadata": {},
     "output_type": "execute_result"
    }
   ],
   "source": [
    "from sklearn.metrics import confusion_matrix\n",
    "cm = confusion_matrix(y_test, y_test_pred_rf)\n",
    "cm"
   ]
  },
  {
   "cell_type": "code",
   "execution_count": 164,
   "id": "fa79d5b2",
   "metadata": {},
   "outputs": [],
   "source": [
    "text = \"The food quality is very very bad had order some soup it was so terrible could eat more than a spoonful. They need to change the chef at the earliest.\""
   ]
  },
  {
   "cell_type": "markdown",
   "id": "5cced00c",
   "metadata": {},
   "source": [
    "###  Saving the Model"
   ]
  },
  {
   "cell_type": "code",
   "execution_count": 78,
   "id": "22902c2b",
   "metadata": {},
   "outputs": [],
   "source": [
    "from pickle import dump\n",
    "dump(classifier_rf, open('textsummarization1.pkl', 'wb'))"
   ]
  },
  {
   "cell_type": "code",
   "execution_count": null,
   "id": "304cf587",
   "metadata": {},
   "outputs": [],
   "source": [
    "i like this food.Food is good "
   ]
  },
  {
   "cell_type": "code",
   "execution_count": null,
   "id": "ff9bbde3",
   "metadata": {},
   "outputs": [],
   "source": []
  },
  {
   "cell_type": "code",
   "execution_count": null,
   "id": "c2eba35a",
   "metadata": {},
   "outputs": [],
   "source": []
  },
  {
   "cell_type": "code",
   "execution_count": null,
   "id": "c3a2fd51",
   "metadata": {},
   "outputs": [],
   "source": []
  }
 ],
 "metadata": {
  "kernelspec": {
   "display_name": "Python 3 (ipykernel)",
   "language": "python",
   "name": "python3"
  },
  "language_info": {
   "codemirror_mode": {
    "name": "ipython",
    "version": 3
   },
   "file_extension": ".py",
   "mimetype": "text/x-python",
   "name": "python",
   "nbconvert_exporter": "python",
   "pygments_lexer": "ipython3",
   "version": "3.9.7"
  }
 },
 "nbformat": 4,
 "nbformat_minor": 5
}
